{
 "cells": [
  {
   "cell_type": "code",
   "execution_count": 1,
   "metadata": {
    "id": "ugz_BJtCp8IU"
   },
   "outputs": [],
   "source": [
    "import pandas as pd\n",
    "import numpy as np\n",
    "import matplotlib.pyplot as plt\n",
    "from tqdm import tqdm\n",
    "import random\n",
    "import os\n",
    "from sklearn.preprocessing import scale\n",
    "\n",
    "import torch\n",
    "from torch import nn\n",
    "from torch.utils.data import Dataset, DataLoader"
   ]
  },
  {
   "cell_type": "code",
   "execution_count": 2,
   "metadata": {
    "colab": {
     "base_uri": "https://localhost:8080/"
    },
    "id": "U_rt0TUUp__f",
    "outputId": "523bdd00-6474-4fb7-cd82-244e67e98ebf"
   },
   "outputs": [],
   "source": [
    "!pip install -q pybithumb"
   ]
  },
  {
   "cell_type": "code",
   "execution_count": 3,
   "metadata": {
    "id": "foLjgI9sqH_h"
   },
   "outputs": [],
   "source": [
    "import pybithumb"
   ]
  },
  {
   "cell_type": "code",
   "execution_count": 4,
   "metadata": {
    "id": "P2Gp9bL-qLek"
   },
   "outputs": [],
   "source": [
    "mydf = pybithumb.get_ohlcv('BTC', interval='day')"
   ]
  },
  {
   "cell_type": "code",
   "execution_count": 5,
   "metadata": {
    "colab": {
     "base_uri": "https://localhost:8080/",
     "height": 293
    },
    "id": "9r-3FBcJqQ8l",
    "outputId": "447c613d-d955-4a1f-a4f8-d807fe0824ec"
   },
   "outputs": [
    {
     "data": {
      "text/plain": [
       "[<matplotlib.lines.Line2D at 0x1cfe10c28e0>]"
      ]
     },
     "execution_count": 5,
     "metadata": {},
     "output_type": "execute_result"
    },
    {
     "data": {
      "image/png": "[encoded data removed]",
      "text/plain": [
       "<Figure size 432x288 with 1 Axes>"
      ]
     },
     "metadata": {
      "needs_background": "light"
     },
     "output_type": "display_data"
    }
   ],
   "source": [
    "plt.plot(mydf['open'])"
   ]
  },
  {
   "cell_type": "code",
   "execution_count": 6,
   "metadata": {
    "id": "MQBPUQPZzCZJ"
   },
   "outputs": [],
   "source": [
    "mydf['open'] = scale(mydf['open']).tolist()\n",
    "mydf['high'] = scale(mydf['high']).tolist()\n",
    "mydf['low'] = scale(mydf['low']).tolist()\n",
    "mydf['close'] = scale(mydf['close']).tolist()\n",
    "mydf['volume'] = scale(mydf['volume']).tolist()"
   ]
  },
  {
   "cell_type": "code",
   "execution_count": 7,
   "metadata": {},
   "outputs": [],
   "source": [
    "device = torch.device(\"cuda:0\") # GPU 사용\n",
    "target_n = 1 # 맞춰야하는 품목/품종의 수\n",
    "learning_rate = 5e-4 # 학습률\n",
    "BATCH_SIZE = 128 # 배치사이즈\n",
    "EPOCHS = 50 # 총 eopochs\n",
    "teacher_forcing = False # 교사강요 설정\n",
    "n_layers = 3 # rnn레이어 층\n",
    "dropout = 0.2 # 드롭아웃\n",
    "window_size = 28 # 인코더 시퀀스 길이\n",
    "future_size = 28 # 디코더 시퀀스 길이\n",
    "hidden_dim = 128 # rnn 히든차원\n",
    "save_path = '.'"
   ]
  },
  {
   "cell_type": "code",
   "execution_count": null,
   "metadata": {
    "id": "7uZpn59lqRzw"
   },
   "outputs": [],
   "source": [
    "device = torch.device(\"cuda:0\") # GPU 사용\n",
    "target_n = 1 # 맞춰야하는 품목/품종의 수\n",
    "learning_rate = 0.01 # 학습률\n",
    "BATCH_SIZE = 128 # 배치사이즈\n",
    "EPOCHS = 50 # 총 eopochs\n",
    "teacher_forcing = True # 교사강요 설정\n",
    "n_layers = 5 # rnn레이어 층\n",
    "dropout = 0.2 # 드롭아웃\n",
    "window_size = 28 # 인코더 시퀀스 길이\n",
    "future_size = 28 # 디코더 시퀀스 길이\n",
    "hidden_dim = 128 # rnn 히든차원\n",
    "save_path = '.'"
   ]
  },
  {
   "cell_type": "code",
   "execution_count": 8,
   "metadata": {
    "id": "gAJbvsaAqxrL"
   },
   "outputs": [],
   "source": [
    "x_data = []\n",
    "y_data = []\n",
    "for i in range(mydf.shape[0]-window_size-future_size):\n",
    "    x = mydf.iloc[i:i+window_size, 0:].to_numpy()\n",
    "    y = mydf.iloc[i+window_size:i+window_size+future_size, 3::2].to_numpy()\n",
    "    y_0 = np.zeros([1, y.shape[1]]) # 디코더 첫 입력값 추가\n",
    "    x_data.append(x)\n",
    "    y_data.append(np.concatenate([y_0, y], axis=0))\n",
    "x_data = np.array(x_data)\n",
    "y_data = np.array(y_data)"
   ]
  },
  {
   "cell_type": "code",
   "execution_count": 9,
   "metadata": {
    "id": "BAy5UY8kq2Xo"
   },
   "outputs": [],
   "source": [
    "class CustomDataset(Dataset):\n",
    "    def __init__(self, encoder_input, decoder_input):\n",
    "        self.encoder_input = encoder_input\n",
    "        self.decoder_input = decoder_input\n",
    "        \n",
    "    def __len__(self):\n",
    "        return len(self.encoder_input)\n",
    "    \n",
    "    def __getitem__(self, i):\n",
    "        return {\n",
    "            'encoder_input' : torch.tensor(self.encoder_input[i], dtype=torch.float32),\n",
    "            'decoder_input' : torch.tensor(self.decoder_input[i], dtype=torch.float32)\n",
    "        }"
   ]
  },
  {
   "cell_type": "code",
   "execution_count": 10,
   "metadata": {
    "id": "arXAmvWsnl0_"
   },
   "outputs": [],
   "source": [
    "train_test_split = 30\n",
    "x_train = x_data[:-train_test_split-future_size]\n",
    "y_train = y_data[:-train_test_split-future_size]\n",
    "x_val = x_data[-train_test_split:]\n",
    "y_val = y_data[-train_test_split:]"
   ]
  },
  {
   "cell_type": "code",
   "execution_count": 11,
   "metadata": {
    "id": "rtrlomOKq6TV"
   },
   "outputs": [],
   "source": [
    "train_dataset = CustomDataset(x_train, y_train)\n",
    "val_dataset = CustomDataset(x_val, y_val)\n",
    "\n",
    "train_dataloader = torch.utils.data.DataLoader(train_dataset, batch_size=BATCH_SIZE, num_workers=2, shuffle=True)\n",
    "val_dataloader = torch.utils.data.DataLoader(val_dataset, batch_size=BATCH_SIZE, num_workers=2, shuffle=False)"
   ]
  },
  {
   "cell_type": "code",
   "execution_count": null,
   "metadata": {
    "id": "oy--H1-Isn9B"
   },
   "outputs": [],
   "source": [
    "sample_batch = next(iter(train_dataloader))"
   ]
  },
  {
   "cell_type": "code",
   "execution_count": null,
   "metadata": {
    "colab": {
     "base_uri": "https://localhost:8080/"
    },
    "id": "dOCO_zlAsp_y",
    "outputId": "7986a085-aef9-4c09-f62f-cdccfaf1ebb8"
   },
   "outputs": [],
   "source": [
    "sample_batch['encoder_input'].shape, sample_batch['decoder_input'].shape"
   ]
  },
  {
   "cell_type": "code",
   "execution_count": null,
   "metadata": {
    "id": "UFdnIkJjrMkJ"
   },
   "outputs": [],
   "source": [
    "class Encoder(nn.Module):\n",
    "    def __init__(self, input_dim, hidden_dim, n_layers, dropout):\n",
    "        super().__init__()\n",
    "        self.n_layers = n_layers\n",
    "        \n",
    "        self.rnn = nn.GRU(input_dim, hidden_dim, n_layers, dropout=dropout)\n",
    "        self.dropout = nn.Dropout(dropout)\n",
    "\n",
    "    def forward(self, inp_seq):\n",
    "        inp_seq = inp_seq.permute(1,0,2).contiguous()\n",
    "        outputs, hidden = self.rnn(inp_seq)\n",
    "        \n",
    "        return outputs, hidden"
   ]
  },
  {
   "cell_type": "code",
   "execution_count": null,
   "metadata": {},
   "outputs": [],
   "source": [
    "class BahdanauAttention(nn.Module):\n",
    "    def __init__(self, dec_output_dim, units):\n",
    "        super(BahdanauAttention, self).__init__()\n",
    "        self.W1 = nn.Linear(dec_output_dim, units)\n",
    "        self.W2 = nn.Linear(dec_output_dim, units)\n",
    "        self.V = nn.Linear(dec_output_dim, 1)\n",
    "\n",
    "    def forward(self, hidden, enc_output):\n",
    "        query_with_time_axis = hidden.unsqueeze(1)\n",
    "        \n",
    "        score = self.V(torch.tanh(self.W1(query_with_time_axis) + self.W2(enc_output)))\n",
    "        \n",
    "        attention_weights = torch.softmax(score, axis=1)\n",
    "        \n",
    "        context_vector = attention_weights * enc_output\n",
    "        context_vector = torch.sum(context_vector, dim=1)\n",
    "\n",
    "        return context_vector, attention_weights"
   ]
  },
  {
   "cell_type": "code",
   "execution_count": null,
   "metadata": {
    "id": "xrxCSUDMrbhH"
   },
   "outputs": [],
   "source": [
    "class ScaledDotAttention(nn.Module):\n",
    "    def __init__(self, dec_output_dim, units):\n",
    "        super(ScaledDotAttention, self).__init__()\n",
    "        self.scale = 1.0/np.sqrt(dec_output_dim)\n",
    "\n",
    "    def forward(self, hidden, enc_output):\n",
    "        query = hidden.unsqueeze(2)\n",
    "        keys = enc_output.permute(1,2,0)\n",
    "        \n",
    "        score = torch.matmul(query, keys)\n",
    "        score = energy.permute(0, 3, 1, 2)\n",
    "        \n",
    "        attention_weights = torch.softmax(score, axis=1)\n",
    "\n",
    "        context_vector = attention_weights * enc_output\n",
    "        context_vector = torch.sum(context_vector, dim=1)\n",
    "        \n",
    "        return context_vector, attention_weights"
   ]
  },
  {
   "cell_type": "code",
   "execution_count": null,
   "metadata": {
    "id": "OfQrTdcrrd37"
   },
   "outputs": [],
   "source": [
    "class Decoder(nn.Module):\n",
    "    def __init__(self, dec_feature_size, encoder_hidden_dim, output_dim, decoder_hidden_dim, n_layers, dropout, attention):\n",
    "        super().__init__()\n",
    "        self.output_dim = output_dim\n",
    "        self.decoder_hidden_dim = decoder_hidden_dim\n",
    "        self.n_layers = n_layers\n",
    "        self.attention = attention\n",
    "        \n",
    "        self.layer = nn.Linear(dec_feature_size, encoder_hidden_dim)\n",
    "        self.rnn = nn.GRU(encoder_hidden_dim*2, decoder_hidden_dim, n_layers, dropout=dropout)\n",
    "        self.fc_out = nn.Linear(hidden_dim, output_dim)\n",
    "        self.dropout = nn.Dropout(dropout)\n",
    "\n",
    "    def forward(self, enc_output, dec_input, hidden):\n",
    "        dec_input = self.layer(dec_input)\n",
    "        context_vector, attention_weights = self.attention(hidden, enc_output)\n",
    "        dec_input = torch.cat([torch.sum(context_vector, dim=0), dec_input], dim=1)\n",
    "        dec_input = dec_input.unsqueeze(0)\n",
    "        \n",
    "        output, hidden = self.rnn(dec_input, hidden)\n",
    "\n",
    "        prediction = self.fc_out(output.sum(0))\n",
    "        \n",
    "        return prediction, hidden"
   ]
  },
  {
   "cell_type": "code",
   "execution_count": null,
   "metadata": {
    "id": "j0sAxSQxrgIx"
   },
   "outputs": [],
   "source": [
    "class Seq2Seq(nn.Module):\n",
    "    def __init__(self, encoder, decoder, attention):\n",
    "        super().__init__()\n",
    "        self.encoder = encoder\n",
    "        self.decoder = decoder\n",
    "        \n",
    "    def forward(self, encoder_input, decoder_input, teacher_forcing=False):\n",
    "        batch_size = decoder_input.size(0)\n",
    "        trg_len = decoder_input.size(1)\n",
    "        \n",
    "        outputs = torch.zeros(batch_size, trg_len-1, self.decoder.output_dim).to(device)\n",
    "        enc_output, hidden = self.encoder(encoder_input)\n",
    "        \n",
    "        dec_input = decoder_input[:, 0]\n",
    "        for t in range(1, trg_len):\n",
    "            output, hidden = self.decoder(enc_output, dec_input, hidden)\n",
    "            outputs[:, t-1] = output\n",
    "            if teacher_forcing == True:\n",
    "                dec_input = decoder_input[:, t]\n",
    "            else:\n",
    "                dec_input = output\n",
    "        \n",
    "        return outputs"
   ]
  },
  {
   "cell_type": "code",
   "execution_count": null,
   "metadata": {
    "id": "peWR8iMXrkOV"
   },
   "outputs": [],
   "source": [
    "encoder = Encoder(input_dim=x_data.shape[-1], hidden_dim=hidden_dim, n_layers=n_layers, dropout=dropout)\n",
    "attention = SDAttention(dec_output_dim=hidden_dim, units=hidden_dim)\n",
    "decoder = Decoder(\n",
    "    dec_feature_size=target_n, encoder_hidden_dim=hidden_dim, output_dim=target_n,\n",
    "    decoder_hidden_dim=hidden_dim, n_layers=n_layers, dropout=dropout,\n",
    "    attention = attention\n",
    ")\n",
    "\n",
    "model = Seq2Seq(encoder, decoder, attention)\n",
    "model = model.to(device)"
   ]
  },
  {
   "cell_type": "code",
   "execution_count": null,
   "metadata": {
    "id": "t7RQL5Z-nRc3"
   },
   "outputs": [],
   "source": [
    "def my_custom_metric(pred, true):\n",
    "  \n",
    "    score = torch.mean(torch.abs((true-pred))/(true))\n",
    "    \n",
    "    return score"
   ]
  },
  {
   "cell_type": "code",
   "execution_count": null,
   "metadata": {
    "id": "c6Dc5NcLruZ0"
   },
   "outputs": [],
   "source": [
    "optimizer = torch.optim.Adam(model.parameters(), lr=learning_rate)\n",
    "criterion = nn.L1Loss()\n",
    "score_fn = my_custom_metric"
   ]
  },
  {
   "cell_type": "code",
   "execution_count": null,
   "metadata": {
    "id": "fbKW8-T6ryGO"
   },
   "outputs": [],
   "source": [
    "def train_step(batch_item, epoch, batch, training, teacher_forcing):\n",
    "    encoder_input = batch_item['encoder_input'].to(device)\n",
    "    decoder_input = batch_item['decoder_input'].to(device)\n",
    "    if training is True:\n",
    "        model.train()\n",
    "        optimizer.zero_grad()\n",
    "        output = model(encoder_input, decoder_input, teacher_forcing)\n",
    "        loss = criterion(output, decoder_input[:,1:])\n",
    "        score = score_fn(output, decoder_input[:,1:])\n",
    "        loss.backward()\n",
    "        optimizer.step()\n",
    "        \n",
    "        return loss, score\n",
    "    else:\n",
    "        model.eval()\n",
    "        with torch.no_grad():\n",
    "            output = model(encoder_input, decoder_input, False)\n",
    "            loss = criterion(output, decoder_input[:,1:])\n",
    "            score = score_fn(output, decoder_input[:,1:])\n",
    "        return loss, score"
   ]
  },
  {
   "cell_type": "code",
   "execution_count": null,
   "metadata": {
    "colab": {
     "base_uri": "https://localhost:8080/"
    },
    "id": "8lYQ05zBsDZq",
    "outputId": "8482ec13-552d-4e30-b054-12e34a2b2fc6"
   },
   "outputs": [],
   "source": [
    "loss_plot, val_loss_plot = [], []\n",
    "score_plot, val_score_plot = [], []\n",
    "\n",
    "for epoch in range(EPOCHS):\n",
    "    total_loss, total_val_loss = 0, 0\n",
    "    total_score, total_val_score = 0, 0\n",
    "    \n",
    "    training = True\n",
    "    with tqdm(train_dataloader,\n",
    "              total = train_dataloader.__len__(),\n",
    "              unit=\"batch\") as tqdm_dataset:\n",
    "        for batch, batch_item in enumerate(tqdm_dataset):\n",
    "            batch_loss, batch_score = train_step(batch_item, epoch, batch, training, teacher_forcing)\n",
    "            total_loss += batch_loss\n",
    "            total_score += batch_score\n",
    "            \n",
    "            tqdm_dataset.set_postfix({\n",
    "                'Epoch': epoch + 1,\n",
    "                'Loss': '{:06f}'.format(batch_loss.item()),\n",
    "                'Total Loss' : '{:06f}'.format(total_loss/(batch+1)),\n",
    "                'Score': '{:06f}'.format(batch_score.item()),\n",
    "                'Total Score' : '{:06f}'.format(total_score/(batch+1)),\n",
    "            })\n",
    "    loss_plot.append(total_loss/(batch+1))\n",
    "    score_plot.append(total_score/(batch+1))\n",
    "    \n",
    "    training = False\n",
    "    with tqdm(val_dataloader,\n",
    "              total = val_dataloader.__len__(),\n",
    "              unit=\"batch\") as tqdm_dataset:\n",
    "        for batch, batch_item in enumerate(tqdm_dataset):\n",
    "            batch_loss, batch_val_score = train_step(batch_item, epoch, batch, training, teacher_forcing)\n",
    "            total_val_loss += batch_loss\n",
    "            total_val_score += batch_val_score\n",
    "            \n",
    "            tqdm_dataset.set_postfix({\n",
    "                'Epoch': epoch + 1,\n",
    "                'Val Loss': '{:06f}'.format(batch_loss.item()),\n",
    "                'Total Val Loss' : '{:06f}'.format(total_val_loss/(batch+1)),\n",
    "                'Val Score': '{:06f}'.format(batch_val_score.item()),\n",
    "                'Total Val Score' : '{:06f}'.format(total_val_score/(batch+1)),\n",
    "            })\n",
    "    val_loss_plot.append(total_val_loss/(batch+1))\n",
    "    val_score_plot.append(total_val_score/(batch+1))"
   ]
  },
  {
   "cell_type": "code",
   "execution_count": null,
   "metadata": {},
   "outputs": [],
   "source": [
    "loss_plot_lst, val_loss_plot_lst = [], []\n",
    "score_plot_lst, val_score_plot_lst = [], []"
   ]
  },
  {
   "cell_type": "code",
   "execution_count": null,
   "metadata": {},
   "outputs": [],
   "source": [
    "loss_plot_lst.append(loss_plot)\n",
    "val_loss_plot_lst.append(val_loss_plot)\n",
    "score_plot_lst.append(score_plot)\n",
    "val_score_plot_lst.append(val_score_plot)"
   ]
  },
  {
   "cell_type": "markdown",
   "metadata": {},
   "source": [
    "1번 그래프는 기존 코드 <br>\n",
    "2번 그래프는 attention 변경 <br>\n",
    "3번 그래프는 hyperparameter 변경"
   ]
  },
  {
   "cell_type": "code",
   "execution_count": null,
   "metadata": {},
   "outputs": [],
   "source": [
    "fig, ax = plt.subplots(2, 3, figsize = (8, 12))\n",
    "\n",
    "for i, ax in enumerate(ax.reshape(-1)):\n",
    "    if i // 2 == 0:\n",
    "        ax.plot(loss_plot_lst[i % 2], label = 'train_loss')\n",
    "        ax.plot(val_loss_plot_lst[i % 2], label = 'val_loss')\n",
    "        ax.set_title(f'loss_plot{i % 2 + 1}')\n",
    "        ax.set_xlabel('epoch')\n",
    "        ax.set_ylabel('loss(mae)')\n",
    "    else:\n",
    "        ax.plot(score_plot_lst[i % 2], label = 'train_score')\n",
    "        ax.plot(val_score_plot_lst[i % 2], label = 'val_score')\n",
    "        ax.set_title(f'score_plot{i % 2 + 1}')\n",
    "        ax.set_xlabel('epoch')\n",
    "        ax.set_ylabel('score(nmae)')"
   ]
  },
  {
   "cell_type": "code",
   "execution_count": null,
   "metadata": {
    "colab": {
     "base_uri": "https://localhost:8080/",
     "height": 573
    },
    "id": "DbgkQQTWtKAZ",
    "outputId": "6cd8c272-d60d-4a19-c5b0-3f6b0de42bbd"
   },
   "outputs": [],
   "source": [
    "plt.plot(loss_plot, label='train_loss')\n",
    "plt.plot(val_loss_plot, label='val_loss')\n",
    "plt.xlabel('epoch')\n",
    "plt.ylabel('loss(mae)')\n",
    "plt.title('loss_plot')\n",
    "plt.legend()\n",
    "plt.show()\n",
    "\n",
    "plt.plot(score_plot, label='train_score')\n",
    "plt.plot(val_score_plot, label='val_score')\n",
    "plt.xlabel('epoch')\n",
    "plt.ylabel('score(nmae)')\n",
    "plt.title('score_plot')\n",
    "plt.legend()\n",
    "plt.show()"
   ]
  },
  {
   "cell_type": "code",
   "execution_count": null,
   "metadata": {
    "id": "0-ed1P1I1t6U"
   },
   "outputs": [],
   "source": [
    "fig, axes = plt.subplots(1,4, figsize=(13,5))\n",
    "name = ['loyal','spendPurchase','priceRate','promoRate']\n",
    "colors = ['salmon','olive','orange','violet']\n",
    "\n",
    "for i,ax in enumerate(axes.reshape(-1)): \n",
    "    \n",
    "    sns.barplot(ax=ax, data = starbucks,\n",
    "                  x = name[i],\n",
    "                  y = 'income', \n",
    "                  color = colors[i])\n",
    "    \n",
    "    ax.set_title('{} Charts'.format(name[i]))\n",
    "    ax.set_facecolor('white')\n",
    "    ax.grid(b=True, color='#666666')\n",
    "\n",
    "fig.suptitle('What is the impact of income?', size = 14)\n",
    "plt.show()"
   ]
  }
 ],
 "metadata": {
  "accelerator": "GPU",
  "colab": {
   "collapsed_sections": [],
   "name": "seq2seq.ipynb",
   "provenance": []
  },
  "kernelspec": {
   "display_name": "Python 3",
   "language": "python",
   "name": "python3"
  },
  "language_info": {
   "codemirror_mode": {
    "name": "ipython",
    "version": 3
   },
   "file_extension": ".py",
   "mimetype": "text/x-python",
   "name": "python",
   "nbconvert_exporter": "python",
   "pygments_lexer": "ipython3",
   "version": "3.8.5"
  }
 },
 "nbformat": 4,
 "nbformat_minor": 1
}
