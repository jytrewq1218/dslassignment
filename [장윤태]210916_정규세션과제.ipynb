{
 "cells": [
  {
   "cell_type": "code",
   "execution_count": null,
   "metadata": {},
   "outputs": [],
   "source": [
    "!pip install gensim"
   ]
  },
  {
   "cell_type": "code",
   "execution_count": 18,
   "metadata": {
    "colab": {
     "base_uri": "https://localhost:8080/"
    },
    "id": "BsUGyttltL5I",
    "outputId": "a2a524a9-eec2-4214-cad7-54039b4b97ac"
   },
   "outputs": [
    {
     "name": "stderr",
     "output_type": "stream",
     "text": [
      "[nltk_data] Downloading package punkt to\n",
      "[nltk_data]     C:\\Users\\admin1\\AppData\\Roaming\\nltk_data...\n",
      "[nltk_data]   Unzipping tokenizers\\punkt.zip.\n"
     ]
    },
    {
     "data": {
      "text/plain": [
       "True"
      ]
     },
     "execution_count": 18,
     "metadata": {},
     "output_type": "execute_result"
    }
   ],
   "source": [
    "from gensim.models.doc2vec import Doc2Vec, TaggedDocument\n",
    "from nltk.tokenize import word_tokenize\n",
    "import nltk\n",
    "nltk.download('punkt')"
   ]
  },
  {
   "cell_type": "code",
   "execution_count": 23,
   "metadata": {
    "id": "HJRArzLSusZb"
   },
   "outputs": [],
   "source": [
    "idx_df = [(str(a['name']), str(a['history_text'])) for i,a in mydf.loc[:,[\"name\",\"history_text\"]].iterrows()]\n",
    "tagged_data = [TaggedDocument(words=word_tokenize(_d.lower()), tags=[str(i)]) for i, _d in idx_df]"
   ]
  },
  {
   "cell_type": "code",
   "execution_count": 27,
   "metadata": {
    "colab": {
     "base_uri": "https://localhost:8080/"
    },
    "id": "axy5nl_VtPFu",
    "outputId": "a7477a98-a0ea-403f-a641-d5c1e3aa9213"
   },
   "outputs": [],
   "source": [
    "max_epochs = 100\n",
    "vec_size = 20\n",
    "alpha = 0.025\n",
    "\n",
    "model = Doc2Vec(vector_size=vec_size,\n",
    "                alpha=alpha, \n",
    "                min_alpha=0.00025,\n",
    "                min_count=1,\n",
    "                dm =1)\n",
    "  \n",
    "model.build_vocab(tagged_data)"
   ]
  },
  {
   "cell_type": "code",
   "execution_count": 28,
   "metadata": {
    "colab": {
     "base_uri": "https://localhost:8080/",
     "height": 632
    },
    "id": "F65bVXhAXI2G",
    "outputId": "8a92d66b-8dd5-4b79-a42c-addec9cfd28d"
   },
   "outputs": [
    {
     "data": {
      "text/html": [
       "<div>\n",
       "<style scoped>\n",
       "    .dataframe tbody tr th:only-of-type {\n",
       "        vertical-align: middle;\n",
       "    }\n",
       "\n",
       "    .dataframe tbody tr th {\n",
       "        vertical-align: top;\n",
       "    }\n",
       "\n",
       "    .dataframe thead th {\n",
       "        text-align: right;\n",
       "    }\n",
       "</style>\n",
       "<table border=\"1\" class=\"dataframe\">\n",
       "  <thead>\n",
       "    <tr style=\"text-align: right;\">\n",
       "      <th></th>\n",
       "      <th>name</th>\n",
       "      <th>real_name</th>\n",
       "      <th>full_name</th>\n",
       "      <th>overall_score</th>\n",
       "      <th>history_text</th>\n",
       "      <th>powers_text</th>\n",
       "      <th>intelligence_score</th>\n",
       "      <th>strength_score</th>\n",
       "      <th>speed_score</th>\n",
       "      <th>durability_score</th>\n",
       "      <th>...</th>\n",
       "      <th>has_flight</th>\n",
       "      <th>has_accelerated_healing</th>\n",
       "      <th>has_weapons_master</th>\n",
       "      <th>has_intelligence</th>\n",
       "      <th>has_reflexes</th>\n",
       "      <th>has_super_speed</th>\n",
       "      <th>has_durability</th>\n",
       "      <th>has_stamina</th>\n",
       "      <th>has_agility</th>\n",
       "      <th>has_super_strength</th>\n",
       "    </tr>\n",
       "  </thead>\n",
       "  <tbody>\n",
       "    <tr>\n",
       "      <th>5</th>\n",
       "      <td>Aayla Secura</td>\n",
       "      <td>Aayla Secura</td>\n",
       "      <td>NaN</td>\n",
       "      <td>8</td>\n",
       "      <td>ayla Secura was a Rutian Twi'lek Jedi Knight (...</td>\n",
       "      <td>NaN</td>\n",
       "      <td>90</td>\n",
       "      <td>40</td>\n",
       "      <td>45</td>\n",
       "      <td>55</td>\n",
       "      <td>...</td>\n",
       "      <td>0.0</td>\n",
       "      <td>1.0</td>\n",
       "      <td>0.0</td>\n",
       "      <td>0.0</td>\n",
       "      <td>0.0</td>\n",
       "      <td>0.0</td>\n",
       "      <td>0.0</td>\n",
       "      <td>0.0</td>\n",
       "      <td>1.0</td>\n",
       "      <td>0.0</td>\n",
       "    </tr>\n",
       "    <tr>\n",
       "      <th>6</th>\n",
       "      <td>Abe Sapien</td>\n",
       "      <td>Abraham Sapien</td>\n",
       "      <td>Abraham Sapien</td>\n",
       "      <td>10</td>\n",
       "      <td>Sapien began life as Langdon Everett Caul, a ...</td>\n",
       "      <td>Abe is a humanoid amphibious creature. He has...</td>\n",
       "      <td>95</td>\n",
       "      <td>30</td>\n",
       "      <td>35</td>\n",
       "      <td>65</td>\n",
       "      <td>...</td>\n",
       "      <td>0.0</td>\n",
       "      <td>1.0</td>\n",
       "      <td>1.0</td>\n",
       "      <td>1.0</td>\n",
       "      <td>1.0</td>\n",
       "      <td>0.0</td>\n",
       "      <td>1.0</td>\n",
       "      <td>1.0</td>\n",
       "      <td>1.0</td>\n",
       "      <td>1.0</td>\n",
       "    </tr>\n",
       "    <tr>\n",
       "      <th>7</th>\n",
       "      <td>Abin Sur</td>\n",
       "      <td>NaN</td>\n",
       "      <td>NaN</td>\n",
       "      <td>9</td>\n",
       "      <td>Originally a history professor on the planet ...</td>\n",
       "      <td>Abin Sur possessed an exceptionally strong s...</td>\n",
       "      <td>75</td>\n",
       "      <td>90</td>\n",
       "      <td>55</td>\n",
       "      <td>65</td>\n",
       "      <td>...</td>\n",
       "      <td>0.0</td>\n",
       "      <td>0.0</td>\n",
       "      <td>0.0</td>\n",
       "      <td>0.0</td>\n",
       "      <td>0.0</td>\n",
       "      <td>0.0</td>\n",
       "      <td>0.0</td>\n",
       "      <td>0.0</td>\n",
       "      <td>0.0</td>\n",
       "      <td>0.0</td>\n",
       "    </tr>\n",
       "    <tr>\n",
       "      <th>8</th>\n",
       "      <td>Abomination</td>\n",
       "      <td>Emil Blonsky</td>\n",
       "      <td>Emil Blonsky</td>\n",
       "      <td>22</td>\n",
       "      <td>Formerly known as Emil Blonsky, a spy of Sovie...</td>\n",
       "      <td>'Blonsky''s transformation into the Abominatio...</td>\n",
       "      <td>85</td>\n",
       "      <td>100</td>\n",
       "      <td>80</td>\n",
       "      <td>90</td>\n",
       "      <td>...</td>\n",
       "      <td>0.0</td>\n",
       "      <td>1.0</td>\n",
       "      <td>0.0</td>\n",
       "      <td>1.0</td>\n",
       "      <td>0.0</td>\n",
       "      <td>1.0</td>\n",
       "      <td>1.0</td>\n",
       "      <td>1.0</td>\n",
       "      <td>1.0</td>\n",
       "      <td>1.0</td>\n",
       "    </tr>\n",
       "    <tr>\n",
       "      <th>9</th>\n",
       "      <td>Abra Kadabra (CW)</td>\n",
       "      <td>Unknown</td>\n",
       "      <td>Unknown</td>\n",
       "      <td>13</td>\n",
       "      <td>\"Abra Kadabra\" was a criminal time traveler fr...</td>\n",
       "      <td>Abra Kadabra was augmented with various nanot...</td>\n",
       "      <td>100</td>\n",
       "      <td>10</td>\n",
       "      <td>20</td>\n",
       "      <td>30</td>\n",
       "      <td>...</td>\n",
       "      <td>0.0</td>\n",
       "      <td>0.0</td>\n",
       "      <td>0.0</td>\n",
       "      <td>1.0</td>\n",
       "      <td>0.0</td>\n",
       "      <td>0.0</td>\n",
       "      <td>0.0</td>\n",
       "      <td>0.0</td>\n",
       "      <td>0.0</td>\n",
       "      <td>0.0</td>\n",
       "    </tr>\n",
       "  </tbody>\n",
       "</table>\n",
       "<p>5 rows × 81 columns</p>\n",
       "</div>"
      ],
      "text/plain": [
       "                name       real_name       full_name overall_score  \\\n",
       "5       Aayla Secura    Aayla Secura             NaN             8   \n",
       "6         Abe Sapien  Abraham Sapien  Abraham Sapien            10   \n",
       "7           Abin Sur             NaN             NaN             9   \n",
       "8        Abomination    Emil Blonsky    Emil Blonsky            22   \n",
       "9  Abra Kadabra (CW)         Unknown         Unknown            13   \n",
       "\n",
       "                                        history_text  \\\n",
       "5  ayla Secura was a Rutian Twi'lek Jedi Knight (...   \n",
       "6   Sapien began life as Langdon Everett Caul, a ...   \n",
       "7   Originally a history professor on the planet ...   \n",
       "8  Formerly known as Emil Blonsky, a spy of Sovie...   \n",
       "9  \"Abra Kadabra\" was a criminal time traveler fr...   \n",
       "\n",
       "                                         powers_text  intelligence_score  \\\n",
       "5                                                NaN                  90   \n",
       "6   Abe is a humanoid amphibious creature. He has...                  95   \n",
       "7    Abin Sur possessed an exceptionally strong s...                  75   \n",
       "8  'Blonsky''s transformation into the Abominatio...                  85   \n",
       "9   Abra Kadabra was augmented with various nanot...                 100   \n",
       "\n",
       "   strength_score  speed_score  durability_score  ...  has_flight  \\\n",
       "5              40           45                55  ...         0.0   \n",
       "6              30           35                65  ...         0.0   \n",
       "7              90           55                65  ...         0.0   \n",
       "8             100           80                90  ...         0.0   \n",
       "9              10           20                30  ...         0.0   \n",
       "\n",
       "   has_accelerated_healing has_weapons_master has_intelligence has_reflexes  \\\n",
       "5                      1.0                0.0              0.0          0.0   \n",
       "6                      1.0                1.0              1.0          1.0   \n",
       "7                      0.0                0.0              0.0          0.0   \n",
       "8                      1.0                0.0              1.0          0.0   \n",
       "9                      0.0                0.0              1.0          0.0   \n",
       "\n",
       "  has_super_speed has_durability has_stamina has_agility has_super_strength  \n",
       "5             0.0            0.0         0.0         1.0                0.0  \n",
       "6             0.0            1.0         1.0         1.0                1.0  \n",
       "7             0.0            0.0         0.0         0.0                0.0  \n",
       "8             1.0            1.0         1.0         1.0                1.0  \n",
       "9             0.0            0.0         0.0         0.0                0.0  \n",
       "\n",
       "[5 rows x 81 columns]"
      ]
     },
     "execution_count": 28,
     "metadata": {},
     "output_type": "execute_result"
    }
   ],
   "source": [
    "mydf[5:10]"
   ]
  },
  {
   "cell_type": "code",
   "execution_count": 31,
   "metadata": {
    "colab": {
     "base_uri": "https://localhost:8080/"
    },
    "id": "WmdmnOS_tm2n",
    "outputId": "9deeb6ed-f463-4938-d253-29c9c93cdfcd"
   },
   "outputs": [
    {
     "name": "stderr",
     "output_type": "stream",
     "text": [
      "<ipython-input-31-7123d2260fc4>:1: DeprecationWarning: Call to deprecated `docvecs` (The `docvecs` property has been renamed `dv`.).\n",
      "  model.docvecs.most_similar(\"Superman (2006)\")\n"
     ]
    },
    {
     "data": {
      "text/plain": [
       "[('Rocket Raccoon (MCU)', 0.6858669519424438),\n",
       " ('Rocket Raccoon', 0.5951510071754456),\n",
       " ('Red Tornado (CW)', 0.5688164830207825),\n",
       " ('Penguin', 0.564375638961792),\n",
       " ('Stick (MCU)', 0.5559000968933105),\n",
       " ('Steel Serpent', 0.5380349159240723),\n",
       " ('Arsenal', 0.5371323227882385),\n",
       " ('Invincible', 0.5335350632667542),\n",
       " ('Martian Manhunter', 0.5319717526435852),\n",
       " ('Jesse Quick (CW)', 0.518513023853302)]"
      ]
     },
     "execution_count": 31,
     "metadata": {},
     "output_type": "execute_result"
    }
   ],
   "source": [
    "model.docvecs.most_similar(\"Superman (2006)\")"
   ]
  },
  {
   "cell_type": "code",
   "execution_count": null,
   "metadata": {
    "id": "KhHQqD8UXSXN"
   },
   "outputs": [],
   "source": []
  }
 ],
 "metadata": {
  "colab": {
   "collapsed_sections": [],
   "name": "word2vec.ipynb",
   "provenance": [],
   "toc_visible": true
  },
  "kernelspec": {
   "display_name": "Python 3",
   "language": "python",
   "name": "python3"
  },
  "language_info": {
   "codemirror_mode": {
    "name": "ipython",
    "version": 3
   },
   "file_extension": ".py",
   "mimetype": "text/x-python",
   "name": "python",
   "nbconvert_exporter": "python",
   "pygments_lexer": "ipython3",
   "version": "3.8.5"
  }
 },
 "nbformat": 4,
 "nbformat_minor": 1
}
