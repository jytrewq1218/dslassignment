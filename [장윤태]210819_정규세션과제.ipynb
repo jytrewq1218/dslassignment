{
 "cells": [
  {
   "cell_type": "code",
   "execution_count": 1,
   "metadata": {
    "execution": {
     "iopub.execute_input": "2021-08-19T15:11:14.326193Z",
     "iopub.status.busy": "2021-08-19T15:11:14.325659Z",
     "iopub.status.idle": "2021-08-19T15:11:15.650274Z",
     "shell.execute_reply": "2021-08-19T15:11:15.649357Z",
     "shell.execute_reply.started": "2021-08-19T15:11:14.326107Z"
    }
   },
   "outputs": [],
   "source": [
    "import torch \n",
    "import torch.nn as nn\n",
    "import torch.optim as optim\n",
    "import torch.nn.init as init\n",
    "from torch.utils.data import DataLoader\n",
    "\n",
    "import torchvision\n",
    "import torchvision.transforms as transforms\n",
    "from torchvision.datasets import ImageFolder\n",
    "import numpy as np\n",
    "import pandas as pd\n",
    "\n",
    "import matplotlib.pyplot as plt"
   ]
  },
  {
   "cell_type": "code",
   "execution_count": 2,
   "metadata": {
    "execution": {
     "iopub.execute_input": "2021-08-19T15:12:25.750789Z",
     "iopub.status.busy": "2021-08-19T15:12:25.750464Z",
     "iopub.status.idle": "2021-08-19T15:12:25.765861Z",
     "shell.execute_reply": "2021-08-19T15:12:25.764963Z",
     "shell.execute_reply.started": "2021-08-19T15:12:25.750760Z"
    }
   },
   "outputs": [],
   "source": [
    "path = '../input/chest-xray-pneumonia/chest_xray/'\n",
    "mean = torch.tensor([0.4822])\n",
    "std = torch.tensor([0.2328])\n",
    "transformations = transforms.Compose([transforms.Resize((64,64)), \n",
    "                              transforms.ToTensor(), \n",
    "                              transforms.Normalize(mean, std),\n",
    "                             ])"
   ]
  },
  {
   "cell_type": "code",
   "execution_count": 5,
   "metadata": {
    "execution": {
     "iopub.execute_input": "2021-08-19T15:12:36.818436Z",
     "iopub.status.busy": "2021-08-19T15:12:36.818107Z",
     "iopub.status.idle": "2021-08-19T15:12:36.862909Z",
     "shell.execute_reply": "2021-08-19T15:12:36.862048Z",
     "shell.execute_reply.started": "2021-08-19T15:12:36.818407Z"
    }
   },
   "outputs": [],
   "source": [
    "train = ImageFolder(os.path.join(path, 'train'), transform=transformations, target_transform=lambda x:np.reshape(np.float32(x),(1)))\n",
    "val = ImageFolder(os.path.join(path, 'val'), transform=transformations, target_transform=lambda x:np.reshape(np.float32(x),(1)))\n",
    "test = ImageFolder(os.path.join(path, 'test'), transform=transformations)"
   ]
  },
  {
   "cell_type": "code",
   "execution_count": 6,
   "metadata": {
    "execution": {
     "iopub.execute_input": "2021-08-19T15:13:41.042720Z",
     "iopub.status.busy": "2021-08-19T15:13:41.042400Z",
     "iopub.status.idle": "2021-08-19T15:13:41.242252Z",
     "shell.execute_reply": "2021-08-19T15:13:41.241328Z",
     "shell.execute_reply.started": "2021-08-19T15:13:41.042691Z"
    }
   },
   "outputs": [
    {
     "name": "stdout",
     "output_type": "stream",
     "text": [
      "torch.Size([3, 64, 64]) 5216\n",
      "torch.Size([3, 64, 64]) 624\n",
      "5216 624\n"
     ]
    }
   ],
   "source": [
    "print(train.__getitem__(0)[0].size(), train.__len__())\n",
    "print(test.__getitem__(0)[0].size(), test.__len__())\n",
    "\n",
    "print(len(train),len(test))"
   ]
  },
  {
   "cell_type": "code",
   "execution_count": 8,
   "metadata": {
    "execution": {
     "iopub.execute_input": "2021-08-19T15:16:21.407054Z",
     "iopub.status.busy": "2021-08-19T15:16:21.406686Z",
     "iopub.status.idle": "2021-08-19T15:16:21.410701Z",
     "shell.execute_reply": "2021-08-19T15:16:21.410032Z",
     "shell.execute_reply.started": "2021-08-19T15:16:21.407023Z"
    }
   },
   "outputs": [],
   "source": [
    "num_epoch=16\n",
    "batch_size=326\n",
    "learning_rate= 0.0002"
   ]
  },
  {
   "cell_type": "code",
   "execution_count": 9,
   "metadata": {
    "execution": {
     "iopub.execute_input": "2021-08-19T15:16:48.484092Z",
     "iopub.status.busy": "2021-08-19T15:16:48.483738Z",
     "iopub.status.idle": "2021-08-19T15:16:48.488658Z",
     "shell.execute_reply": "2021-08-19T15:16:48.487664Z",
     "shell.execute_reply.started": "2021-08-19T15:16:48.484059Z"
    }
   },
   "outputs": [],
   "source": [
    "train_loader=DataLoader(dataset=train,batch_size=batch_size,shuffle=True,num_workers=2,drop_last=True)\n",
    "test_loader=DataLoader(dataset=test,batch_size=batch_size,shuffle=False,num_workers=2,drop_last=True)"
   ]
  },
  {
   "cell_type": "code",
   "execution_count": 30,
   "metadata": {
    "execution": {
     "iopub.execute_input": "2021-08-19T15:47:49.799192Z",
     "iopub.status.busy": "2021-08-19T15:47:49.798851Z",
     "iopub.status.idle": "2021-08-19T15:47:49.806564Z",
     "shell.execute_reply": "2021-08-19T15:47:49.805893Z",
     "shell.execute_reply.started": "2021-08-19T15:47:49.799161Z"
    }
   },
   "outputs": [],
   "source": [
    "class CNN(nn.Module):\n",
    "    def __init__(self):\n",
    "        super(CNN,self).__init__()\n",
    "        self.layer = nn.Sequential(\n",
    "            nn.Conv2d(in_channels=3,out_channels=16,kernel_size=5, padding=2), # [batch_size,3,64,64] -> [batch_size,16,64,64]\n",
    "            nn.ReLU(),\n",
    "            nn.MaxPool2d(kernel_size=2,stride=2),                              # [batch_size,16,64,64] -> [batch_size,16,32,32]\n",
    "            nn.Conv2d(in_channels=16,out_channels=32,kernel_size=5, padding=2),# [batch_size,16,32,32] -> [batch_size,32,32,32]\n",
    "            nn.ReLU(),\n",
    "            nn.MaxPool2d(kernel_size=2,stride=2),                              # [batch_size,32,32,32] -> [batch_size,32,16,16]\n",
    "            nn.Conv2d(in_channels=32,out_channels=64,kernel_size=5, padding=2),# [batch_size,32,16,16] -> [batch_size,64,16,16]\n",
    "            nn.ReLU(),\n",
    "            nn.MaxPool2d(kernel_size=2,stride=2)                               # [batch_size,64,16,16] -> [batch_size,64,8,8]\n",
    "        )\n",
    "        self.fc_layer = nn.Sequential(                                          \n",
    "            nn.Linear(64*8*8,1000),                                            # [batch_size,64*13*13] -> [batch_size,1000]\n",
    "            nn.ReLU(),\n",
    "            nn.Linear(1000, 100),                                                # [batch_size,1000] -> [batch_size,100]\n",
    "            nn.ReLU(),\n",
    "            nn.Linear(100, 10)                                                 # [batch_size,100] -> [batch_size,10]\n",
    "        )\n",
    "        \n",
    "    def forward(self,x):\n",
    "        out = self.layer(x)\n",
    "        out = out.view(batch_size,-1)\n",
    "        out = self.fc_layer(out)\n",
    "        return out"
   ]
  },
  {
   "cell_type": "code",
   "execution_count": 33,
   "metadata": {
    "execution": {
     "iopub.execute_input": "2021-08-19T15:53:26.238282Z",
     "iopub.status.busy": "2021-08-19T15:53:26.237933Z",
     "iopub.status.idle": "2021-08-19T15:53:26.281873Z",
     "shell.execute_reply": "2021-08-19T15:53:26.281007Z",
     "shell.execute_reply.started": "2021-08-19T15:53:26.238250Z"
    }
   },
   "outputs": [],
   "source": [
    "device=torch.device(\"cuda:0\" if torch.cuda.is_available() else 'cpu')\n",
    "model=CNN().to(device)\n",
    "loss_func=torch.nn.CrossEntropyLoss()\n",
    "optimizer=torch.optim.Adam(model.parameters(),lr=learning_rate)"
   ]
  },
  {
   "cell_type": "code",
   "execution_count": 41,
   "metadata": {
    "execution": {
     "iopub.execute_input": "2021-08-19T16:16:28.423363Z",
     "iopub.status.busy": "2021-08-19T16:16:28.422972Z",
     "iopub.status.idle": "2021-08-19T16:33:57.151126Z",
     "shell.execute_reply": "2021-08-19T16:33:57.150260Z",
     "shell.execute_reply.started": "2021-08-19T16:16:28.423327Z"
    }
   },
   "outputs": [
    {
     "name": "stdout",
     "output_type": "stream",
     "text": [
      "tensor(2.2238, grad_fn=<NllLossBackward>)\n",
      "tensor(1.7954e-07, grad_fn=<NllLossBackward>)\n",
      "tensor(0., grad_fn=<NllLossBackward>)\n",
      "tensor(0., grad_fn=<NllLossBackward>)\n",
      "tensor(0., grad_fn=<NllLossBackward>)\n",
      "tensor(0., grad_fn=<NllLossBackward>)\n",
      "tensor(0., grad_fn=<NllLossBackward>)\n",
      "tensor(0., grad_fn=<NllLossBackward>)\n",
      "tensor(0., grad_fn=<NllLossBackward>)\n",
      "tensor(0., grad_fn=<NllLossBackward>)\n",
      "tensor(0., grad_fn=<NllLossBackward>)\n",
      "tensor(0., grad_fn=<NllLossBackward>)\n",
      "tensor(0., grad_fn=<NllLossBackward>)\n",
      "tensor(0., grad_fn=<NllLossBackward>)\n",
      "tensor(0., grad_fn=<NllLossBackward>)\n",
      "tensor(0., grad_fn=<NllLossBackward>)\n"
     ]
    }
   ],
   "source": [
    "loss_arr=[]\n",
    "for i in range(num_epoch):\n",
    "  for j,[image,label] in enumerate(train_loader):\n",
    "    x=image.to(device)\n",
    "    y_=label.to(device)\n",
    "    \n",
    "    optimizer.zero_grad()\n",
    "    \n",
    "    output=model.forward(x)\n",
    "    \n",
    "    loss=loss_func(output,torch.max(y_, 1)[1])\n",
    "    loss.backward()\n",
    "    \n",
    "    optimizer.step()\n",
    "    \n",
    "    if j%1000==0:\n",
    "      print(loss)\n",
    "      loss_arr.append(loss.cpu().detach().numpy())"
   ]
  },
  {
   "cell_type": "code",
   "execution_count": 42,
   "metadata": {
    "execution": {
     "iopub.execute_input": "2021-08-19T16:34:42.929700Z",
     "iopub.status.busy": "2021-08-19T16:34:42.929113Z",
     "iopub.status.idle": "2021-08-19T16:34:43.087686Z",
     "shell.execute_reply": "2021-08-19T16:34:43.086839Z",
     "shell.execute_reply.started": "2021-08-19T16:34:42.929660Z"
    }
   },
   "outputs": [
    {
     "data": {
      "image/png": "[encoded data removed]",
      "text/plain": [
       "<Figure size 432x288 with 1 Axes>"
      ]
     },
     "metadata": {
      "needs_background": "light"
     },
     "output_type": "display_data"
    }
   ],
   "source": [
    "plt.plot(loss_arr)\n",
    "plt.show()"
   ]
  },
  {
   "cell_type": "code",
   "execution_count": 43,
   "metadata": {
    "execution": {
     "iopub.execute_input": "2021-08-19T16:34:47.561659Z",
     "iopub.status.busy": "2021-08-19T16:34:47.561332Z",
     "iopub.status.idle": "2021-08-19T16:34:59.069282Z",
     "shell.execute_reply": "2021-08-19T16:34:59.068151Z",
     "shell.execute_reply.started": "2021-08-19T16:34:47.561628Z"
    }
   },
   "outputs": [
    {
     "name": "stdout",
     "output_type": "stream",
     "text": [
      "Accuracy of Test Data: 71.77914428710938%\n"
     ]
    }
   ],
   "source": [
    "correct=0\n",
    "total=0\n",
    "\n",
    "with torch.no_grad():\n",
    "  for image,label in test_loader:\n",
    "    x=image.to(device)\n",
    "    y_=label.to(device)\n",
    "    output=model.forward(x)\n",
    "    _,output_index=torch.max(output,1)\n",
    "    total+=label.size(0)\n",
    "    correct += (output_index==y_).sum().float()\n",
    "\n",
    "print(\"Accuracy of Test Data: {}%\".format(100*correct/total))"
   ]
  },
  {
   "cell_type": "code",
   "execution_count": null,
   "metadata": {},
   "outputs": [],
   "source": []
  }
 ],
 "metadata": {
  "kernelspec": {
   "display_name": "Python 3",
   "language": "python",
   "name": "python3"
  },
  "language_info": {
   "codemirror_mode": {
    "name": "ipython",
    "version": 3
   },
   "file_extension": ".py",
   "mimetype": "text/x-python",
   "name": "python",
   "nbconvert_exporter": "python",
   "pygments_lexer": "ipython3",
   "version": "3.8.5"
  }
 },
 "nbformat": 4,
 "nbformat_minor": 4
}
