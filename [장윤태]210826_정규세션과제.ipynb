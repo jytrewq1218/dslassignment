{
 "cells": [
  {
   "cell_type": "code",
   "execution_count": 6,
   "metadata": {
    "_cell_guid": "b1076dfc-b9ad-4769-8c92-a6c4dae69d19",
    "_uuid": "8f2839f25d086af736a60e9eeb907d3b93b6e0e5",
    "execution": {
     "iopub.execute_input": "2021-08-25T12:02:10.500549Z",
     "iopub.status.busy": "2021-08-25T12:02:10.499970Z",
     "iopub.status.idle": "2021-08-25T12:02:11.832384Z",
     "shell.execute_reply": "2021-08-25T12:02:11.831325Z",
     "shell.execute_reply.started": "2021-08-25T12:02:10.500461Z"
    }
   },
   "outputs": [],
   "source": [
    "import torch\n",
    "from torch.utils.data import Dataset, DataLoader\n",
    "import torchvision\n",
    "from torchvision import transforms\n",
    "import torchvision.models as models\n",
    "import matplotlib.pyplot as plt\n",
    "from torchinfo import summary\n",
    "from torch import nn\n",
    "from torch.nn import functional as F"
   ]
  },
  {
   "cell_type": "code",
   "execution_count": 7,
   "metadata": {
    "execution": {
     "iopub.execute_input": "2021-08-25T12:02:11.834104Z",
     "iopub.status.busy": "2021-08-25T12:02:11.833800Z",
     "iopub.status.idle": "2021-08-25T12:02:11.844666Z",
     "shell.execute_reply": "2021-08-25T12:02:11.843806Z",
     "shell.execute_reply.started": "2021-08-25T12:02:11.834076Z"
    }
   },
   "outputs": [
    {
     "data": {
      "text/plain": [
       "<torch._C.Generator at 0x1ecbb2bd790>"
      ]
     },
     "execution_count": 7,
     "metadata": {},
     "output_type": "execute_result"
    }
   ],
   "source": [
    "learning_rate = 0.001\n",
    "momentum = 0.9\n",
    "training_epochs = 16\n",
    "batch_size = 326\n",
    "torch.manual_seed(2018171013)"
   ]
  },
  {
   "cell_type": "code",
   "execution_count": 8,
   "metadata": {
    "execution": {
     "iopub.execute_input": "2021-08-25T12:02:11.846728Z",
     "iopub.status.busy": "2021-08-25T12:02:11.846245Z",
     "iopub.status.idle": "2021-08-25T12:02:15.677425Z",
     "shell.execute_reply": "2021-08-25T12:02:15.676053Z",
     "shell.execute_reply.started": "2021-08-25T12:02:11.846698Z"
    }
   },
   "outputs": [],
   "source": [
    "transforms_train = transforms.Compose([\n",
    "    transforms.Resize(256),\n",
    "    transforms.CenterCrop(224),\n",
    "    transforms.RandomVerticalFlip(p=0.5),\n",
    "    transforms.ToTensor(),\n",
    "    transforms.Normalize(\n",
    "        [0.485, 0.456, 0.406],\n",
    "        [0.229, 0.224, 0.225]\n",
    "    )\n",
    "])\n",
    "\n",
    "transforms_test = transforms.Compose([\n",
    "    transforms.Resize(256),\n",
    "    transforms.CenterCrop(224),\n",
    "    transforms.ToTensor(),\n",
    "    transforms.Normalize(\n",
    "        [0.485, 0.456, 0.406],\n",
    "        [0.229, 0.224, 0.225]\n",
    "    )\n",
    "])\n",
    "\n",
    "trainset = torchvision.datasets.ImageFolder(root=\"../210826_정규세션_CNN3/chest_xray/train\", transform=transforms_train)\n",
    "testset = torchvision.datasets.ImageFolder(root=\"../210826_정규세션_CNN3/chest_xray/test\", transform=transforms_test)"
   ]
  },
  {
   "cell_type": "code",
   "execution_count": 9,
   "metadata": {
    "execution": {
     "iopub.execute_input": "2021-08-25T12:02:15.679452Z",
     "iopub.status.busy": "2021-08-25T12:02:15.679136Z",
     "iopub.status.idle": "2021-08-25T12:02:15.684231Z",
     "shell.execute_reply": "2021-08-25T12:02:15.683141Z",
     "shell.execute_reply.started": "2021-08-25T12:02:15.679421Z"
    }
   },
   "outputs": [],
   "source": [
    "trainloader = DataLoader(trainset, batch_size=batch_size, shuffle=True)\n",
    "testloader = DataLoader(testset, batch_size=batch_size, shuffle=False)"
   ]
  },
  {
   "cell_type": "code",
   "execution_count": 10,
   "metadata": {
    "execution": {
     "iopub.execute_input": "2021-08-25T12:02:15.685718Z",
     "iopub.status.busy": "2021-08-25T12:02:15.685419Z",
     "iopub.status.idle": "2021-08-25T12:02:15.930869Z",
     "shell.execute_reply": "2021-08-25T12:02:15.929546Z",
     "shell.execute_reply.started": "2021-08-25T12:02:15.685689Z"
    }
   },
   "outputs": [
    {
     "name": "stdout",
     "output_type": "stream",
     "text": [
      "torch.Size([3, 224, 224]) 5216\n",
      "torch.Size([3, 224, 224]) 624\n",
      "5216 624\n"
     ]
    }
   ],
   "source": [
    "print(trainset.__getitem__(0)[0].size(), trainset.__len__())\n",
    "print(testset.__getitem__(0)[0].size(), testset.__len__())\n",
    "\n",
    "print(len(trainset),len(testset))"
   ]
  },
  {
   "cell_type": "code",
   "execution_count": 13,
   "metadata": {},
   "outputs": [
    {
     "name": "stdout",
     "output_type": "stream",
     "text": [
      "Collecting efficientnet-pytorch\n",
      "  Downloading efficientnet_pytorch-0.7.1.tar.gz (21 kB)\n",
      "Requirement already satisfied, skipping upgrade: torch in c:\\users\\admin1\\appdata\\local\\programs\\anaconda\\lib\\site-packages (from efficientnet-pytorch) (1.9.0)\n",
      "Requirement already satisfied, skipping upgrade: typing-extensions in c:\\users\\admin1\\appdata\\local\\programs\\anaconda\\lib\\site-packages (from torch->efficientnet-pytorch) (3.7.4.3)\n",
      "Building wheels for collected packages: efficientnet-pytorch\n",
      "  Building wheel for efficientnet-pytorch (setup.py): started\n",
      "  Building wheel for efficientnet-pytorch (setup.py): finished with status 'done'\n",
      "  Created wheel for efficientnet-pytorch: filename=efficientnet_pytorch-0.7.1-py3-none-any.whl size=16447 sha256=7cd445438a8d3db4b938d18fa731a1fea7432bbf7e6a83e03a7a3ab6a57e2768\n",
      "  Stored in directory: c:\\users\\admin1\\appdata\\local\\pip\\cache\\wheels\\84\\b9\\90\\25a0195cf95fb5533db96f1c77ea3f296b7cc86ae8ae48e3dc\n",
      "Successfully built efficientnet-pytorch\n",
      "Installing collected packages: efficientnet-pytorch\n",
      "Successfully installed efficientnet-pytorch-0.7.1\n"
     ]
    }
   ],
   "source": [
    "!pip install --upgrade efficientnet-pytorch"
   ]
  },
  {
   "cell_type": "code",
   "execution_count": 16,
   "metadata": {},
   "outputs": [],
   "source": [
    "from efficientnet_pytorch import EfficientNet"
   ]
  },
  {
   "cell_type": "code",
   "execution_count": 20,
   "metadata": {
    "execution": {
     "iopub.execute_input": "2021-08-25T12:02:15.933143Z",
     "iopub.status.busy": "2021-08-25T12:02:15.932713Z",
     "iopub.status.idle": "2021-08-25T12:02:16.069938Z",
     "shell.execute_reply": "2021-08-25T12:02:16.068827Z",
     "shell.execute_reply.started": "2021-08-25T12:02:15.933096Z"
    }
   },
   "outputs": [
    {
     "name": "stdout",
     "output_type": "stream",
     "text": [
      "Loaded pretrained weights for efficientnet-b7\n",
      "==========================================================================================\n",
      "Layer (type:depth-idx)                   Output Shape              Param #\n",
      "==========================================================================================\n",
      "CNN                                      --                        --\n",
      "├─Sequential: 1-1                        [1, 64, 28, 28]           --\n",
      "│    └─Conv2d: 2-1                       [1, 16, 224, 224]         1,216\n",
      "│    └─BatchNorm2d: 2-2                  [1, 16, 224, 224]         32\n",
      "│    └─ReLU: 2-3                         [1, 16, 224, 224]         --\n",
      "│    └─MaxPool2d: 2-4                    [1, 16, 112, 112]         --\n",
      "│    └─Conv2d: 2-5                       [1, 32, 112, 112]         12,832\n",
      "│    └─BatchNorm2d: 2-6                  [1, 32, 112, 112]         64\n",
      "│    └─ReLU: 2-7                         [1, 32, 112, 112]         --\n",
      "│    └─MaxPool2d: 2-8                    [1, 32, 56, 56]           --\n",
      "│    └─Conv2d: 2-9                       [1, 64, 56, 56]           51,264\n",
      "│    └─BatchNorm2d: 2-10                 [1, 64, 56, 56]           128\n",
      "│    └─ReLU: 2-11                        [1, 64, 56, 56]           --\n",
      "│    └─MaxPool2d: 2-12                   [1, 64, 28, 28]           --\n",
      "├─Sequential: 1-2                        [1, 1]                    --\n",
      "│    └─Linear: 2-13                      [1, 100]                  5,017,700\n",
      "│    └─BatchNorm1d: 2-14                 [1, 100]                  200\n",
      "│    └─ReLU: 2-15                        [1, 100]                  --\n",
      "│    └─Linear: 2-16                      [1, 1]                    101\n",
      "==========================================================================================\n",
      "Total params: 5,083,537\n",
      "Trainable params: 5,083,537\n",
      "Non-trainable params: 0\n",
      "Total mult-adds (M): 387.76\n",
      "==========================================================================================\n",
      "Input size (MB): 0.60\n",
      "Forward/backward pass size (MB): 22.48\n",
      "Params size (MB): 20.33\n",
      "Estimated Total Size (MB): 43.42\n",
      "==========================================================================================\n"
     ]
    }
   ],
   "source": [
    "class CNN(nn.Module):\n",
    "    def __init__(self):\n",
    "        super(CNN,self).__init__()           \n",
    "        self.layer = nn.Sequential(                                             \n",
    "            nn.Conv2d(in_channels=3,out_channels=16,kernel_size=5, padding=2), # [batch_size,3,224,224] -> [batch_size,16,224,224]\n",
    "            nn.BatchNorm2d(16),\n",
    "            nn.ReLU(),\n",
    "            nn.MaxPool2d(kernel_size=2,stride=2),                              # [batch_size,16,224,224] -> [batch_size,16,112,112]\n",
    "            nn.Conv2d(in_channels=16,out_channels=32,kernel_size=5, padding=2),# [batch_size,16,112,112] -> [batch_size,32,112,112]\n",
    "            nn.BatchNorm2d(32),\n",
    "            nn.ReLU(),\n",
    "            nn.MaxPool2d(kernel_size=2,stride=2),                              # [batch_size,32,112,112] -> [batch_size,32,56,56]\n",
    "            nn.Conv2d(in_channels=32, out_channels=64, kernel_size=5, padding=2),# [batch_size,32,56,56] -> [batch_size,64,56,56]\n",
    "            nn.BatchNorm2d(64),\n",
    "            nn.ReLU(),\n",
    "            nn.MaxPool2d(kernel_size=2,stride=2)                               # [batch_size,64,56,56] -> [batch_size,64,28,28]\n",
    "        )\n",
    "        self.fc_layer = nn.Sequential(                                          \n",
    "            nn.Linear(64*28*28,100), #Linear(64*28*28,100)                     # [batch_size,64*28*28] -> [batch_size,100]\n",
    "            nn.BatchNorm1d(100),\n",
    "            nn.ReLU(),\n",
    "            nn.Linear(100,1)                                                   # [batch_size,100] -> [batch_size,1]\n",
    "        )\n",
    "\n",
    "        for m in self.modules():\n",
    "            if isinstance(m, nn.Conv2d):\n",
    "                nn.init.kaiming_normal_(m.weight.data)\n",
    "                m.bias.data.fill_(0)\n",
    "            \n",
    "            elif isinstance(m, nn.Linear):\n",
    "                nn.init.kaiming_normal_(m.weight.data)\n",
    "                m.bias.data.fill_(0)\n",
    "        \n",
    "    def forward(self,x):\n",
    "        out = self.layer(x)\n",
    "        out = out.view(-1,64*28*28)\n",
    "        out = self.fc_layer(out)\n",
    "    \n",
    "        return torch.sigmoid(out)\n",
    "\n",
    "device = torch.device('cuda:0' if torch.cuda.is_available() else 'cpu')\n",
    "Model = EfficientNet.from_pretrained('efficientnet-b7') \n",
    "Model = torchvision.models.googlenet(pretrained=True).to(device)\n",
    "Model = CNN().to(device)\n",
    "print(summary(Model, input_size=(1, 3, 224, 224), verbose=0))"
   ]
  },
  {
   "cell_type": "code",
   "execution_count": 21,
   "metadata": {
    "execution": {
     "iopub.execute_input": "2021-08-25T12:02:16.071649Z",
     "iopub.status.busy": "2021-08-25T12:02:16.071326Z",
     "iopub.status.idle": "2021-08-25T12:02:16.079332Z",
     "shell.execute_reply": "2021-08-25T12:02:16.078138Z",
     "shell.execute_reply.started": "2021-08-25T12:02:16.071617Z"
    }
   },
   "outputs": [
    {
     "name": "stdout",
     "output_type": "stream",
     "text": [
      "LEARNING STARTS! (model: My CNN model)\n",
      "total data is  5216\n",
      "there will be about  16 steps\n"
     ]
    }
   ],
   "source": [
    "criterion = torch.nn.BCELoss()\n",
    "optimizer = torch.optim.SGD(Model.parameters(), momentum=momentum, lr=learning_rate)\n",
    "\n",
    "total_data = len(trainset)\n",
    "iteration_num = len(trainloader)\n",
    "\n",
    "print(\"LEARNING STARTS! (model: My CNN model)\")\n",
    "print(\"total data is \", total_data)\n",
    "print(\"there will be about \", iteration_num, \"steps\")"
   ]
  },
  {
   "cell_type": "code",
   "execution_count": 22,
   "metadata": {
    "execution": {
     "iopub.execute_input": "2021-08-25T12:02:16.082051Z",
     "iopub.status.busy": "2021-08-25T12:02:16.081676Z",
     "iopub.status.idle": "2021-08-25T13:55:16.362792Z",
     "shell.execute_reply": "2021-08-25T13:55:16.359173Z",
     "shell.execute_reply.started": "2021-08-25T12:02:16.082017Z"
    }
   },
   "outputs": [
    {
     "name": "stdout",
     "output_type": "stream",
     "text": [
      "STEP [ 0 / 16 ] LOSS:  0.7980533838272095\n",
      "[EPOCH:    1] COST = 0.386354864\n",
      "EPOCH 1  ACCURACY: 0.8733974358974359\n",
      "IMPROVEMENT WAS THERE. SAVE CKPT...\n",
      "STEP [ 0 / 16 ] LOSS:  0.26719385385513306\n",
      "[EPOCH:    2] COST = 0.155543968\n",
      "EPOCH 2  ACCURACY: 0.8381410256410257\n",
      "STEP [ 0 / 16 ] LOSS:  0.10217885673046112\n",
      "[EPOCH:    3] COST = 0.106519215\n",
      "EPOCH 3  ACCURACY: 0.8125\n",
      "STEP [ 0 / 16 ] LOSS:  0.08185040205717087\n",
      "[EPOCH:    4] COST = 0.0969920158\n",
      "EPOCH 4  ACCURACY: 0.7580128205128205\n",
      "STEP [ 0 / 16 ] LOSS:  0.08207671344280243\n",
      "[EPOCH:    5] COST = 0.0927661806\n",
      "EPOCH 5  ACCURACY: 0.8253205128205128\n",
      "STEP [ 0 / 16 ] LOSS:  0.07444668561220169\n",
      "[EPOCH:    6] COST = 0.0825480595\n",
      "EPOCH 6  ACCURACY: 0.8237179487179487\n",
      "STEP [ 0 / 16 ] LOSS:  0.08657677471637726\n",
      "[EPOCH:    7] COST = 0.0733639747\n",
      "EPOCH 7  ACCURACY: 0.7916666666666666\n",
      "STEP [ 0 / 16 ] LOSS:  0.06388147920370102\n",
      "[EPOCH:    8] COST = 0.0722222328\n",
      "EPOCH 8  ACCURACY: 0.8060897435897436\n",
      "STEP [ 0 / 16 ] LOSS:  0.06899136304855347\n",
      "[EPOCH:    9] COST = 0.0660591647\n",
      "EPOCH 9  ACCURACY: 0.8237179487179487\n",
      "STEP [ 0 / 16 ] LOSS:  0.04385123401880264\n",
      "[EPOCH:   10] COST = 0.061793182\n",
      "EPOCH 10  ACCURACY: 0.8477564102564102\n",
      "STEP [ 0 / 16 ] LOSS:  0.04560329392552376\n",
      "[EPOCH:   11] COST = 0.0651957169\n",
      "EPOCH 11  ACCURACY: 0.8557692307692307\n",
      "STEP [ 0 / 16 ] LOSS:  0.05554226040840149\n",
      "[EPOCH:   12] COST = 0.0662395284\n",
      "EPOCH 12  ACCURACY: 0.8637820512820513\n",
      "STEP [ 0 / 16 ] LOSS:  0.05604639649391174\n",
      "[EPOCH:   13] COST = 0.0639583096\n",
      "EPOCH 13  ACCURACY: 0.8461538461538461\n",
      "STEP [ 0 / 16 ] LOSS:  0.05617915093898773\n",
      "[EPOCH:   14] COST = 0.0572791696\n",
      "EPOCH 14  ACCURACY: 0.8365384615384616\n",
      "STEP [ 0 / 16 ] LOSS:  0.05416952446103096\n",
      "[EPOCH:   15] COST = 0.0539772622\n",
      "EPOCH 15  ACCURACY: 0.8205128205128205\n",
      "STEP [ 0 / 16 ] LOSS:  0.04538412019610405\n",
      "[EPOCH:   16] COST = 0.0548930727\n",
      "EPOCH 16  ACCURACY: 0.8317307692307693\n",
      "LEARNING FINISHED! (model: my CNN model)\n",
      "FINAL ACCURACY:  0.8733974358974359\n"
     ]
    }
   ],
   "source": [
    "current_accuracy = 0\n",
    "for epoch in range(training_epochs):\n",
    "    avg_cost = 0\n",
    "    step = 0\n",
    "    \n",
    "    for X, Y in trainloader:\n",
    "        X = X.to(device)\n",
    "        Y =Y.view(-1,1)\n",
    "        Y =Y.to(torch.float32)\n",
    "        Y =Y.to(device)\n",
    "        optimizer.zero_grad()\n",
    "        hypothesis = Model(X)\n",
    "        \n",
    "        cost = criterion(hypothesis, Y)\n",
    "        cost.backward()\n",
    "        optimizer.step()\n",
    "        avg_cost += cost / iteration_num\n",
    "        if(step % 100 == 0):\n",
    "            print(\"STEP [\", step, \"/\", iteration_num, \"] LOSS: \", cost.item())\n",
    "        step += 1\n",
    "    print('[EPOCH: {:>4}] COST = {:>.9}'.format(epoch + 1, avg_cost))\n",
    "    correct = 0\n",
    "    total = 0\n",
    "    Model.eval()\n",
    "    with torch.no_grad():\n",
    "        for images, labels in testloader:\n",
    "            outputs = Model(images.to(device))\n",
    "            total += labels.size(0)\n",
    "            correct_prediction = outputs[outputs.data>0.5]\n",
    "            correct += correct_prediction.sum()\n",
    "\n",
    "        accuracy = int(correct) / total\n",
    "        print('EPOCH', epoch+1,  ' ACCURACY:', accuracy)\n",
    "        if(accuracy > current_accuracy):\n",
    "            print('IMPROVEMENT WAS THERE. SAVE CKPT...')\n",
    "            current_accuracy = accuracy\n",
    "            \n",
    "print(\"LEARNING FINISHED! (model: my CNN model)\")\n",
    "print('FINAL ACCURACY: ', current_accuracy)"
   ]
  }
 ],
 "metadata": {
  "kernelspec": {
   "display_name": "Python 3",
   "language": "python",
   "name": "python3"
  },
  "language_info": {
   "codemirror_mode": {
    "name": "ipython",
    "version": 3
   },
   "file_extension": ".py",
   "mimetype": "text/x-python",
   "name": "python",
   "nbconvert_exporter": "python",
   "pygments_lexer": "ipython3",
   "version": "3.8.5"
  }
 },
 "nbformat": 4,
 "nbformat_minor": 4
}
